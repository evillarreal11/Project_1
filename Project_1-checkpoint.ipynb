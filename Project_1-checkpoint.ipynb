{
 "cells": [
  {
   "cell_type": "code",
   "execution_count": 1,
   "id": "5333d816",
   "metadata": {},
   "outputs": [],
   "source": [
    "%matplotlib notebook"
   ]
  },
  {
   "cell_type": "code",
   "execution_count": 2,
   "id": "69fa7a93",
   "metadata": {},
   "outputs": [],
   "source": [
    "import pandas as pd\n",
    "from pathlib import Path\n",
    "import numpy as np\n",
    "import matplotlib.pyplot as plt\n",
    "import scipy.stats as st\n",
    "import scipy.stats as stats"
   ]
  },
  {
   "cell_type": "code",
   "execution_count": 3,
   "id": "feb8500e",
   "metadata": {},
   "outputs": [],
   "source": [
    "# File path\n",
    "sleep_health_data = Path(\"Sleep_Study/Sleep_health_and_lifestyle_dataset.csv\")\n",
    "\n",
    "\n",
    "\n"
   ]
  },
  {
   "cell_type": "code",
   "execution_count": 4,
   "id": "d74fe864",
   "metadata": {},
   "outputs": [],
   "source": [
    "sleep_health_data = pd.read_csv(sleep_health_data)"
   ]
  },
  {
   "cell_type": "code",
   "execution_count": 5,
   "id": "a2a33abf",
   "metadata": {},
   "outputs": [],
   "source": [
    "sleep_df=sleep_health_data\n"
   ]
  },
  {
   "cell_type": "code",
   "execution_count": 6,
   "id": "8c5bea67",
   "metadata": {},
   "outputs": [
    {
     "data": {
      "text/html": [
       "<div>\n",
       "<style scoped>\n",
       "    .dataframe tbody tr th:only-of-type {\n",
       "        vertical-align: middle;\n",
       "    }\n",
       "\n",
       "    .dataframe tbody tr th {\n",
       "        vertical-align: top;\n",
       "    }\n",
       "\n",
       "    .dataframe thead th {\n",
       "        text-align: right;\n",
       "    }\n",
       "</style>\n",
       "<table border=\"1\" class=\"dataframe\">\n",
       "  <thead>\n",
       "    <tr style=\"text-align: right;\">\n",
       "      <th></th>\n",
       "      <th>Person ID</th>\n",
       "      <th>Gender</th>\n",
       "      <th>Age</th>\n",
       "      <th>Occupation</th>\n",
       "      <th>Sleep Duration</th>\n",
       "      <th>Quality of Sleep</th>\n",
       "      <th>Physical Activity Level</th>\n",
       "      <th>Stress Level</th>\n",
       "      <th>BMI Category</th>\n",
       "      <th>Blood Pressure</th>\n",
       "      <th>Heart Rate</th>\n",
       "      <th>Daily Steps</th>\n",
       "      <th>Sleep Disorder</th>\n",
       "    </tr>\n",
       "  </thead>\n",
       "  <tbody>\n",
       "    <tr>\n",
       "      <th>0</th>\n",
       "      <td>1</td>\n",
       "      <td>Male</td>\n",
       "      <td>27</td>\n",
       "      <td>Software Engineer</td>\n",
       "      <td>6.1</td>\n",
       "      <td>6</td>\n",
       "      <td>42</td>\n",
       "      <td>6</td>\n",
       "      <td>Overweight</td>\n",
       "      <td>126/83</td>\n",
       "      <td>77</td>\n",
       "      <td>4200</td>\n",
       "      <td>NaN</td>\n",
       "    </tr>\n",
       "    <tr>\n",
       "      <th>1</th>\n",
       "      <td>2</td>\n",
       "      <td>Male</td>\n",
       "      <td>28</td>\n",
       "      <td>Doctor</td>\n",
       "      <td>6.2</td>\n",
       "      <td>6</td>\n",
       "      <td>60</td>\n",
       "      <td>8</td>\n",
       "      <td>Normal</td>\n",
       "      <td>125/80</td>\n",
       "      <td>75</td>\n",
       "      <td>10000</td>\n",
       "      <td>NaN</td>\n",
       "    </tr>\n",
       "    <tr>\n",
       "      <th>2</th>\n",
       "      <td>3</td>\n",
       "      <td>Male</td>\n",
       "      <td>28</td>\n",
       "      <td>Doctor</td>\n",
       "      <td>6.2</td>\n",
       "      <td>6</td>\n",
       "      <td>60</td>\n",
       "      <td>8</td>\n",
       "      <td>Normal</td>\n",
       "      <td>125/80</td>\n",
       "      <td>75</td>\n",
       "      <td>10000</td>\n",
       "      <td>NaN</td>\n",
       "    </tr>\n",
       "    <tr>\n",
       "      <th>3</th>\n",
       "      <td>4</td>\n",
       "      <td>Male</td>\n",
       "      <td>28</td>\n",
       "      <td>Sales Representative</td>\n",
       "      <td>5.9</td>\n",
       "      <td>4</td>\n",
       "      <td>30</td>\n",
       "      <td>8</td>\n",
       "      <td>Obese</td>\n",
       "      <td>140/90</td>\n",
       "      <td>85</td>\n",
       "      <td>3000</td>\n",
       "      <td>Sleep Apnea</td>\n",
       "    </tr>\n",
       "    <tr>\n",
       "      <th>4</th>\n",
       "      <td>5</td>\n",
       "      <td>Male</td>\n",
       "      <td>28</td>\n",
       "      <td>Sales Representative</td>\n",
       "      <td>5.9</td>\n",
       "      <td>4</td>\n",
       "      <td>30</td>\n",
       "      <td>8</td>\n",
       "      <td>Obese</td>\n",
       "      <td>140/90</td>\n",
       "      <td>85</td>\n",
       "      <td>3000</td>\n",
       "      <td>Sleep Apnea</td>\n",
       "    </tr>\n",
       "  </tbody>\n",
       "</table>\n",
       "</div>"
      ],
      "text/plain": [
       "   Person ID Gender  Age            Occupation  Sleep Duration  \\\n",
       "0          1   Male   27     Software Engineer             6.1   \n",
       "1          2   Male   28                Doctor             6.2   \n",
       "2          3   Male   28                Doctor             6.2   \n",
       "3          4   Male   28  Sales Representative             5.9   \n",
       "4          5   Male   28  Sales Representative             5.9   \n",
       "\n",
       "   Quality of Sleep  Physical Activity Level  Stress Level BMI Category  \\\n",
       "0                 6                       42             6   Overweight   \n",
       "1                 6                       60             8       Normal   \n",
       "2                 6                       60             8       Normal   \n",
       "3                 4                       30             8        Obese   \n",
       "4                 4                       30             8        Obese   \n",
       "\n",
       "  Blood Pressure  Heart Rate  Daily Steps Sleep Disorder  \n",
       "0         126/83          77         4200            NaN  \n",
       "1         125/80          75        10000            NaN  \n",
       "2         125/80          75        10000            NaN  \n",
       "3         140/90          85         3000    Sleep Apnea  \n",
       "4         140/90          85         3000    Sleep Apnea  "
      ]
     },
     "execution_count": 6,
     "metadata": {},
     "output_type": "execute_result"
    }
   ],
   "source": [
    "sleep_df.head()"
   ]
  },
  {
   "cell_type": "code",
   "execution_count": 7,
   "id": "d65d0e6f",
   "metadata": {},
   "outputs": [
    {
     "data": {
      "text/plain": [
       "Occupation\n",
       "Nurse                   73\n",
       "Doctor                  71\n",
       "Engineer                63\n",
       "Lawyer                  47\n",
       "Teacher                 40\n",
       "Accountant              37\n",
       "Salesperson             32\n",
       "Software Engineer        4\n",
       "Scientist                4\n",
       "Sales Representative     2\n",
       "Manager                  1\n",
       "Name: count, dtype: int64"
      ]
     },
     "execution_count": 7,
     "metadata": {},
     "output_type": "execute_result"
    }
   ],
   "source": [
    "# Sample size per occupation\n",
    "occupation_count = sleep_df['Occupation'].value_counts()\n",
    "occupation_count"
   ]
  },
  {
   "cell_type": "code",
   "execution_count": 8,
   "id": "5b858815",
   "metadata": {},
   "outputs": [
    {
     "data": {
      "text/plain": [
       "Occupation\n",
       "Nurse          73\n",
       "Doctor         71\n",
       "Engineer       63\n",
       "Lawyer         47\n",
       "Teacher        40\n",
       "Accountant     37\n",
       "Salesperson    32\n",
       "Name: count, dtype: int64"
      ]
     },
     "execution_count": 8,
     "metadata": {},
     "output_type": "execute_result"
    }
   ],
   "source": [
    "# Filter out small sizes\n",
    "filtered_sleep_df = sleep_df.loc[sleep_df['Occupation'].isin(['Nurse' , 'Doctor' , 'Engineer' , 'Lawyer' , 'Teacher' , 'Accountant' , 'Salesperson'])]\n",
    "filtered_occupation_count = filtered_sleep_df['Occupation'].value_counts()\n",
    "filtered_occupation_count"
   ]
  },
  {
   "cell_type": "code",
   "execution_count": 9,
   "id": "53365818",
   "metadata": {
    "scrolled": false
   },
   "outputs": [
    {
     "data": {
      "text/plain": [
       "0      Overweight\n",
       "1          Normal\n",
       "2          Normal\n",
       "3           Obese\n",
       "4           Obese\n",
       "          ...    \n",
       "369    Overweight\n",
       "370    Overweight\n",
       "371    Overweight\n",
       "372    Overweight\n",
       "373    Overweight\n",
       "Name: BMI Category, Length: 374, dtype: object"
      ]
     },
     "execution_count": 9,
     "metadata": {},
     "output_type": "execute_result"
    }
   ],
   "source": [
    "sleep_df['BMI Category']"
   ]
  },
  {
   "cell_type": "code",
   "execution_count": null,
   "id": "a4b9609c",
   "metadata": {},
   "outputs": [],
   "source": []
  },
  {
   "cell_type": "code",
   "execution_count": 10,
   "id": "c8f4afc2",
   "metadata": {},
   "outputs": [
    {
     "data": {
      "text/plain": [
       "0      6\n",
       "1      8\n",
       "2      8\n",
       "3      8\n",
       "4      8\n",
       "      ..\n",
       "369    3\n",
       "370    3\n",
       "371    3\n",
       "372    3\n",
       "373    3\n",
       "Name: Stress Level, Length: 374, dtype: int64"
      ]
     },
     "execution_count": 10,
     "metadata": {},
     "output_type": "execute_result"
    }
   ],
   "source": [
    "sleep_df['Stress Level']"
   ]
  },
  {
   "cell_type": "code",
   "execution_count": 11,
   "id": "4912815e",
   "metadata": {},
   "outputs": [
    {
     "data": {
      "text/plain": [
       "0      42\n",
       "1      60\n",
       "2      60\n",
       "3      30\n",
       "4      30\n",
       "       ..\n",
       "369    75\n",
       "370    75\n",
       "371    75\n",
       "372    75\n",
       "373    75\n",
       "Name: Physical Activity Level, Length: 374, dtype: int64"
      ]
     },
     "execution_count": 11,
     "metadata": {},
     "output_type": "execute_result"
    }
   ],
   "source": [
    "sleep_df['Physical Activity Level']"
   ]
  },
  {
   "cell_type": "code",
   "execution_count": 26,
   "id": "07c4f930",
   "metadata": {},
   "outputs": [
    {
     "ename": "NameError",
     "evalue": "name 'combined_sleep_data' is not defined",
     "output_type": "error",
     "traceback": [
      "\u001b[1;31m---------------------------------------------------------------------------\u001b[0m",
      "\u001b[1;31mNameError\u001b[0m                                 Traceback (most recent call last)",
      "Cell \u001b[1;32mIn[26], line 1\u001b[0m\n\u001b[1;32m----> 1\u001b[0m occupation_correlation \u001b[38;5;241m=\u001b[39m st\u001b[38;5;241m.\u001b[39mpearsonr(\u001b[43mcombined_sleep_data\u001b[49m[\u001b[38;5;124m'\u001b[39m\u001b[38;5;124mMean Sleep Quality\u001b[39m\u001b[38;5;124m'\u001b[39m],combined_sleep_data[\u001b[38;5;124m'\u001b[39m\u001b[38;5;124mMean Stress Level\u001b[39m\u001b[38;5;124m'\u001b[39m])\n\u001b[0;32m      2\u001b[0m \u001b[38;5;28mprint\u001b[39m(\u001b[38;5;124mf\u001b[39m\u001b[38;5;124m\"\u001b[39m\u001b[38;5;124mThe correlation between sleep quality and stress associated with occupation is \u001b[39m\u001b[38;5;132;01m{\u001b[39;00m\u001b[38;5;28mround\u001b[39m(occupation_correlation[\u001b[38;5;241m0\u001b[39m],\u001b[38;5;241m2\u001b[39m)\u001b[38;5;132;01m}\u001b[39;00m\u001b[38;5;124m\"\u001b[39m)\n\u001b[0;32m      4\u001b[0m (slope, intercept,rvalue, pvalue, stderr)\u001b[38;5;241m=\u001b[39mst\u001b[38;5;241m.\u001b[39mlinregress(combined_sleep_data[\u001b[38;5;124m'\u001b[39m\u001b[38;5;124mMean Sleep Quality\u001b[39m\u001b[38;5;124m'\u001b[39m],combined_sleep_data[\u001b[38;5;124m'\u001b[39m\u001b[38;5;124mMean Stress Level\u001b[39m\u001b[38;5;124m'\u001b[39m])\n",
      "\u001b[1;31mNameError\u001b[0m: name 'combined_sleep_data' is not defined"
     ]
    }
   ],
   "source": [
    "occupation_correlation = st.pearsonr(combined_sleep_data['Mean Sleep Quality'],combined_sleep_data['Mean Stress Level'])\n",
    "print(f\"The correlation between sleep quality and stress associated with occupation is {round(occupation_correlation[0],2)}\")\n",
    "\n",
    "(slope, intercept,rvalue, pvalue, stderr)=st.linregress(combined_sleep_data['Mean Sleep Quality'],combined_sleep_data['Mean Stress Level'])\n",
    "regress_values=combined_sleep_data['Mean Sleep Quality']* slope + intercept\n",
    "\n",
    "plt.scatter(combined_sleep_data['Mean Sleep Quality'],combined_sleep_data['Mean Stress Level'],color=\"blue\")\n",
    "plt.plot(combined_sleep_data['Mean Sleep Quality'], regress_values, linewidth = 1, color=\"red\")\n",
    "plt.xlabel(\"Average Sleep Quality\")\n",
    "plt.ylabel(\"Stress Level Associated with Occupation\")\n",
    "plt.title(\"Correlation Between Occupation Stress and Sleep Quality\")\n",
    "plt.tight_layout()\n",
    "\n",
    "plt.savefig(\"output_data/occupation_sleep_stress_corr.png\")\n",
    "plt.show()"
   ]
  },
  {
   "cell_type": "code",
   "execution_count": 12,
   "id": "71bb9d00",
   "metadata": {},
   "outputs": [
    {
     "data": {
      "text/html": [
       "<div>\n",
       "<style scoped>\n",
       "    .dataframe tbody tr th:only-of-type {\n",
       "        vertical-align: middle;\n",
       "    }\n",
       "\n",
       "    .dataframe tbody tr th {\n",
       "        vertical-align: top;\n",
       "    }\n",
       "\n",
       "    .dataframe thead th {\n",
       "        text-align: right;\n",
       "    }\n",
       "</style>\n",
       "<table border=\"1\" class=\"dataframe\">\n",
       "  <thead>\n",
       "    <tr style=\"text-align: right;\">\n",
       "      <th></th>\n",
       "      <th>Stress Level</th>\n",
       "      <th>BMI Category</th>\n",
       "      <th>Physical Activity Level</th>\n",
       "      <th>Quality of Sleep</th>\n",
       "      <th>Sleep Duration</th>\n",
       "    </tr>\n",
       "  </thead>\n",
       "  <tbody>\n",
       "    <tr>\n",
       "      <th>0</th>\n",
       "      <td>6</td>\n",
       "      <td>Overweight</td>\n",
       "      <td>42</td>\n",
       "      <td>6</td>\n",
       "      <td>6.1</td>\n",
       "    </tr>\n",
       "    <tr>\n",
       "      <th>1</th>\n",
       "      <td>8</td>\n",
       "      <td>Normal</td>\n",
       "      <td>60</td>\n",
       "      <td>6</td>\n",
       "      <td>6.2</td>\n",
       "    </tr>\n",
       "    <tr>\n",
       "      <th>2</th>\n",
       "      <td>8</td>\n",
       "      <td>Normal</td>\n",
       "      <td>60</td>\n",
       "      <td>6</td>\n",
       "      <td>6.2</td>\n",
       "    </tr>\n",
       "    <tr>\n",
       "      <th>3</th>\n",
       "      <td>8</td>\n",
       "      <td>Obese</td>\n",
       "      <td>30</td>\n",
       "      <td>4</td>\n",
       "      <td>5.9</td>\n",
       "    </tr>\n",
       "    <tr>\n",
       "      <th>4</th>\n",
       "      <td>8</td>\n",
       "      <td>Obese</td>\n",
       "      <td>30</td>\n",
       "      <td>4</td>\n",
       "      <td>5.9</td>\n",
       "    </tr>\n",
       "    <tr>\n",
       "      <th>...</th>\n",
       "      <td>...</td>\n",
       "      <td>...</td>\n",
       "      <td>...</td>\n",
       "      <td>...</td>\n",
       "      <td>...</td>\n",
       "    </tr>\n",
       "    <tr>\n",
       "      <th>369</th>\n",
       "      <td>3</td>\n",
       "      <td>Overweight</td>\n",
       "      <td>75</td>\n",
       "      <td>9</td>\n",
       "      <td>8.1</td>\n",
       "    </tr>\n",
       "    <tr>\n",
       "      <th>370</th>\n",
       "      <td>3</td>\n",
       "      <td>Overweight</td>\n",
       "      <td>75</td>\n",
       "      <td>9</td>\n",
       "      <td>8.0</td>\n",
       "    </tr>\n",
       "    <tr>\n",
       "      <th>371</th>\n",
       "      <td>3</td>\n",
       "      <td>Overweight</td>\n",
       "      <td>75</td>\n",
       "      <td>9</td>\n",
       "      <td>8.1</td>\n",
       "    </tr>\n",
       "    <tr>\n",
       "      <th>372</th>\n",
       "      <td>3</td>\n",
       "      <td>Overweight</td>\n",
       "      <td>75</td>\n",
       "      <td>9</td>\n",
       "      <td>8.1</td>\n",
       "    </tr>\n",
       "    <tr>\n",
       "      <th>373</th>\n",
       "      <td>3</td>\n",
       "      <td>Overweight</td>\n",
       "      <td>75</td>\n",
       "      <td>9</td>\n",
       "      <td>8.1</td>\n",
       "    </tr>\n",
       "  </tbody>\n",
       "</table>\n",
       "<p>374 rows × 5 columns</p>\n",
       "</div>"
      ],
      "text/plain": [
       "     Stress Level BMI Category  Physical Activity Level  Quality of Sleep  \\\n",
       "0               6   Overweight                       42                 6   \n",
       "1               8       Normal                       60                 6   \n",
       "2               8       Normal                       60                 6   \n",
       "3               8        Obese                       30                 4   \n",
       "4               8        Obese                       30                 4   \n",
       "..            ...          ...                      ...               ...   \n",
       "369             3   Overweight                       75                 9   \n",
       "370             3   Overweight                       75                 9   \n",
       "371             3   Overweight                       75                 9   \n",
       "372             3   Overweight                       75                 9   \n",
       "373             3   Overweight                       75                 9   \n",
       "\n",
       "     Sleep Duration  \n",
       "0               6.1  \n",
       "1               6.2  \n",
       "2               6.2  \n",
       "3               5.9  \n",
       "4               5.9  \n",
       "..              ...  \n",
       "369             8.1  \n",
       "370             8.0  \n",
       "371             8.1  \n",
       "372             8.1  \n",
       "373             8.1  \n",
       "\n",
       "[374 rows x 5 columns]"
      ]
     },
     "execution_count": 12,
     "metadata": {},
     "output_type": "execute_result"
    }
   ],
   "source": [
    "sleep_df[['Stress Level','BMI Category','Physical Activity Level','Quality of Sleep','Sleep Duration']]"
   ]
  },
  {
   "cell_type": "code",
   "execution_count": 13,
   "id": "de1d627b",
   "metadata": {},
   "outputs": [],
   "source": [
    "import matplotlib.pyplot as plt\n",
    "import scipy.stats as st"
   ]
  }
 ],
 "metadata": {
  "kernelspec": {
   "display_name": "Python 3 (ipykernel)",
   "language": "python",
   "name": "python3"
  },
  "language_info": {
   "codemirror_mode": {
    "name": "ipython",
    "version": 3
   },
   "file_extension": ".py",
   "mimetype": "text/x-python",
   "name": "python",
   "nbconvert_exporter": "python",
   "pygments_lexer": "ipython3",
   "version": "3.10.13"
  }
 },
 "nbformat": 4,
 "nbformat_minor": 5
}
