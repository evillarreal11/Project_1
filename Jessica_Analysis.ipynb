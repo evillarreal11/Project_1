{
 "cells": [
  {
   "cell_type": "markdown",
   "id": "f66e48e8",
   "metadata": {},
   "source": [
    "Jessica: Analysis of trends/correlations between health factors and sleep disorders. \n",
    "\n",
    "Question: Does lack of sleep cause certain health problems in patients with diagnosed sleep disorders versus patients without sleep disorders?\n",
    "\n",
    "Null Hypothesis: There is no significant relationship between health factors (Blood pressure, Heart rate, BMI) and patients with sleep disorders. No difference between these factors between patients with a disorder and patients without. \n",
    "\n",
    "Alternative Hypothesis: There is significant cause and effect between health factors (Blood pressure, Heart rate, BMI) and patients with sleep disorders. "
   ]
  },
  {
   "cell_type": "code",
   "execution_count": 139,
   "id": "a9c7ddc1",
   "metadata": {},
   "outputs": [],
   "source": [
    "import pandas as pd\n",
    "from pathlib import Path\n",
    "import scipy.stats as stats\n",
    "import numpy as np\n",
    "from scipy.stats import sem\n",
    "from scipy.stats import linregress\n",
    "from sklearn import datasets"
   ]
  },
  {
   "cell_type": "code",
   "execution_count": 140,
   "id": "617bfeeb",
   "metadata": {},
   "outputs": [
    {
     "data": {
      "text/html": [
       "<div>\n",
       "<style scoped>\n",
       "    .dataframe tbody tr th:only-of-type {\n",
       "        vertical-align: middle;\n",
       "    }\n",
       "\n",
       "    .dataframe tbody tr th {\n",
       "        vertical-align: top;\n",
       "    }\n",
       "\n",
       "    .dataframe thead th {\n",
       "        text-align: right;\n",
       "    }\n",
       "</style>\n",
       "<table border=\"1\" class=\"dataframe\">\n",
       "  <thead>\n",
       "    <tr style=\"text-align: right;\">\n",
       "      <th></th>\n",
       "      <th>Person ID</th>\n",
       "      <th>Gender</th>\n",
       "      <th>Age</th>\n",
       "      <th>Occupation</th>\n",
       "      <th>Sleep Duration</th>\n",
       "      <th>Quality of Sleep</th>\n",
       "      <th>Physical Activity Level</th>\n",
       "      <th>Stress Level</th>\n",
       "      <th>BMI Category</th>\n",
       "      <th>Blood Pressure</th>\n",
       "      <th>Heart Rate</th>\n",
       "      <th>Daily Steps</th>\n",
       "      <th>Sleep Disorder</th>\n",
       "    </tr>\n",
       "  </thead>\n",
       "  <tbody>\n",
       "    <tr>\n",
       "      <th>0</th>\n",
       "      <td>1</td>\n",
       "      <td>Male</td>\n",
       "      <td>27</td>\n",
       "      <td>Software Engineer</td>\n",
       "      <td>6.1</td>\n",
       "      <td>6</td>\n",
       "      <td>42</td>\n",
       "      <td>6</td>\n",
       "      <td>Overweight</td>\n",
       "      <td>126/83</td>\n",
       "      <td>77</td>\n",
       "      <td>4200</td>\n",
       "      <td>None</td>\n",
       "    </tr>\n",
       "    <tr>\n",
       "      <th>1</th>\n",
       "      <td>2</td>\n",
       "      <td>Male</td>\n",
       "      <td>28</td>\n",
       "      <td>Doctor</td>\n",
       "      <td>6.2</td>\n",
       "      <td>6</td>\n",
       "      <td>60</td>\n",
       "      <td>8</td>\n",
       "      <td>Normal</td>\n",
       "      <td>125/80</td>\n",
       "      <td>75</td>\n",
       "      <td>10000</td>\n",
       "      <td>None</td>\n",
       "    </tr>\n",
       "    <tr>\n",
       "      <th>2</th>\n",
       "      <td>3</td>\n",
       "      <td>Male</td>\n",
       "      <td>28</td>\n",
       "      <td>Doctor</td>\n",
       "      <td>6.2</td>\n",
       "      <td>6</td>\n",
       "      <td>60</td>\n",
       "      <td>8</td>\n",
       "      <td>Normal</td>\n",
       "      <td>125/80</td>\n",
       "      <td>75</td>\n",
       "      <td>10000</td>\n",
       "      <td>None</td>\n",
       "    </tr>\n",
       "    <tr>\n",
       "      <th>3</th>\n",
       "      <td>4</td>\n",
       "      <td>Male</td>\n",
       "      <td>28</td>\n",
       "      <td>Sales Representative</td>\n",
       "      <td>5.9</td>\n",
       "      <td>4</td>\n",
       "      <td>30</td>\n",
       "      <td>8</td>\n",
       "      <td>Obese</td>\n",
       "      <td>140/90</td>\n",
       "      <td>85</td>\n",
       "      <td>3000</td>\n",
       "      <td>Sleep Apnea</td>\n",
       "    </tr>\n",
       "    <tr>\n",
       "      <th>4</th>\n",
       "      <td>5</td>\n",
       "      <td>Male</td>\n",
       "      <td>28</td>\n",
       "      <td>Sales Representative</td>\n",
       "      <td>5.9</td>\n",
       "      <td>4</td>\n",
       "      <td>30</td>\n",
       "      <td>8</td>\n",
       "      <td>Obese</td>\n",
       "      <td>140/90</td>\n",
       "      <td>85</td>\n",
       "      <td>3000</td>\n",
       "      <td>Sleep Apnea</td>\n",
       "    </tr>\n",
       "  </tbody>\n",
       "</table>\n",
       "</div>"
      ],
      "text/plain": [
       "   Person ID Gender  Age            Occupation  Sleep Duration  \\\n",
       "0          1   Male   27     Software Engineer             6.1   \n",
       "1          2   Male   28                Doctor             6.2   \n",
       "2          3   Male   28                Doctor             6.2   \n",
       "3          4   Male   28  Sales Representative             5.9   \n",
       "4          5   Male   28  Sales Representative             5.9   \n",
       "\n",
       "   Quality of Sleep  Physical Activity Level  Stress Level BMI Category  \\\n",
       "0                 6                       42             6   Overweight   \n",
       "1                 6                       60             8       Normal   \n",
       "2                 6                       60             8       Normal   \n",
       "3                 4                       30             8        Obese   \n",
       "4                 4                       30             8        Obese   \n",
       "\n",
       "  Blood Pressure  Heart Rate  Daily Steps Sleep Disorder  \n",
       "0         126/83          77         4200           None  \n",
       "1         125/80          75        10000           None  \n",
       "2         125/80          75        10000           None  \n",
       "3         140/90          85         3000    Sleep Apnea  \n",
       "4         140/90          85         3000    Sleep Apnea  "
      ]
     },
     "execution_count": 140,
     "metadata": {},
     "output_type": "execute_result"
    }
   ],
   "source": [
    "sleep_data = Path(\"Sleep_Study/Sleep_health_and_lifestyle_dataset.csv\")\n",
    "\n",
    "sleep_data_pd = pd.read_csv(sleep_data)\n",
    "\n",
    "sleep_data_pd.head()"
   ]
  },
  {
   "cell_type": "code",
   "execution_count": 141,
   "id": "08ad50e4",
   "metadata": {},
   "outputs": [
    {
     "data": {
      "text/html": [
       "<div>\n",
       "<style scoped>\n",
       "    .dataframe tbody tr th:only-of-type {\n",
       "        vertical-align: middle;\n",
       "    }\n",
       "\n",
       "    .dataframe tbody tr th {\n",
       "        vertical-align: top;\n",
       "    }\n",
       "\n",
       "    .dataframe thead th {\n",
       "        text-align: right;\n",
       "    }\n",
       "</style>\n",
       "<table border=\"1\" class=\"dataframe\">\n",
       "  <thead>\n",
       "    <tr style=\"text-align: right;\">\n",
       "      <th></th>\n",
       "      <th>Person ID</th>\n",
       "      <th>Gender</th>\n",
       "      <th>Age</th>\n",
       "      <th>Occupation</th>\n",
       "      <th>Sleep Duration</th>\n",
       "      <th>Quality of Sleep</th>\n",
       "      <th>Physical Activity Level</th>\n",
       "      <th>Stress Level</th>\n",
       "      <th>BMI Category</th>\n",
       "      <th>Blood Pressure</th>\n",
       "      <th>Heart Rate</th>\n",
       "      <th>Daily Steps</th>\n",
       "      <th>Sleep Disorder</th>\n",
       "      <th>systolic blood pressure</th>\n",
       "      <th>diastolic blood pressure</th>\n",
       "    </tr>\n",
       "  </thead>\n",
       "  <tbody>\n",
       "    <tr>\n",
       "      <th>0</th>\n",
       "      <td>1</td>\n",
       "      <td>Male</td>\n",
       "      <td>27</td>\n",
       "      <td>Software Engineer</td>\n",
       "      <td>6.1</td>\n",
       "      <td>6</td>\n",
       "      <td>42</td>\n",
       "      <td>6</td>\n",
       "      <td>Overweight</td>\n",
       "      <td>126/83</td>\n",
       "      <td>77</td>\n",
       "      <td>4200</td>\n",
       "      <td>None</td>\n",
       "      <td>126.0</td>\n",
       "      <td>83.0</td>\n",
       "    </tr>\n",
       "    <tr>\n",
       "      <th>1</th>\n",
       "      <td>2</td>\n",
       "      <td>Male</td>\n",
       "      <td>28</td>\n",
       "      <td>Doctor</td>\n",
       "      <td>6.2</td>\n",
       "      <td>6</td>\n",
       "      <td>60</td>\n",
       "      <td>8</td>\n",
       "      <td>Normal</td>\n",
       "      <td>125/80</td>\n",
       "      <td>75</td>\n",
       "      <td>10000</td>\n",
       "      <td>None</td>\n",
       "      <td>125.0</td>\n",
       "      <td>80.0</td>\n",
       "    </tr>\n",
       "    <tr>\n",
       "      <th>2</th>\n",
       "      <td>3</td>\n",
       "      <td>Male</td>\n",
       "      <td>28</td>\n",
       "      <td>Doctor</td>\n",
       "      <td>6.2</td>\n",
       "      <td>6</td>\n",
       "      <td>60</td>\n",
       "      <td>8</td>\n",
       "      <td>Normal</td>\n",
       "      <td>125/80</td>\n",
       "      <td>75</td>\n",
       "      <td>10000</td>\n",
       "      <td>None</td>\n",
       "      <td>125.0</td>\n",
       "      <td>80.0</td>\n",
       "    </tr>\n",
       "    <tr>\n",
       "      <th>3</th>\n",
       "      <td>4</td>\n",
       "      <td>Male</td>\n",
       "      <td>28</td>\n",
       "      <td>Sales Representative</td>\n",
       "      <td>5.9</td>\n",
       "      <td>4</td>\n",
       "      <td>30</td>\n",
       "      <td>8</td>\n",
       "      <td>Obese</td>\n",
       "      <td>140/90</td>\n",
       "      <td>85</td>\n",
       "      <td>3000</td>\n",
       "      <td>Sleep Apnea</td>\n",
       "      <td>140.0</td>\n",
       "      <td>90.0</td>\n",
       "    </tr>\n",
       "    <tr>\n",
       "      <th>4</th>\n",
       "      <td>5</td>\n",
       "      <td>Male</td>\n",
       "      <td>28</td>\n",
       "      <td>Sales Representative</td>\n",
       "      <td>5.9</td>\n",
       "      <td>4</td>\n",
       "      <td>30</td>\n",
       "      <td>8</td>\n",
       "      <td>Obese</td>\n",
       "      <td>140/90</td>\n",
       "      <td>85</td>\n",
       "      <td>3000</td>\n",
       "      <td>Sleep Apnea</td>\n",
       "      <td>140.0</td>\n",
       "      <td>90.0</td>\n",
       "    </tr>\n",
       "  </tbody>\n",
       "</table>\n",
       "</div>"
      ],
      "text/plain": [
       "   Person ID Gender  Age            Occupation  Sleep Duration  \\\n",
       "0          1   Male   27     Software Engineer             6.1   \n",
       "1          2   Male   28                Doctor             6.2   \n",
       "2          3   Male   28                Doctor             6.2   \n",
       "3          4   Male   28  Sales Representative             5.9   \n",
       "4          5   Male   28  Sales Representative             5.9   \n",
       "\n",
       "   Quality of Sleep  Physical Activity Level  Stress Level BMI Category  \\\n",
       "0                 6                       42             6   Overweight   \n",
       "1                 6                       60             8       Normal   \n",
       "2                 6                       60             8       Normal   \n",
       "3                 4                       30             8        Obese   \n",
       "4                 4                       30             8        Obese   \n",
       "\n",
       "  Blood Pressure  Heart Rate  Daily Steps Sleep Disorder  \\\n",
       "0         126/83          77         4200           None   \n",
       "1         125/80          75        10000           None   \n",
       "2         125/80          75        10000           None   \n",
       "3         140/90          85         3000    Sleep Apnea   \n",
       "4         140/90          85         3000    Sleep Apnea   \n",
       "\n",
       "   systolic blood pressure  diastolic blood pressure  \n",
       "0                    126.0                      83.0  \n",
       "1                    125.0                      80.0  \n",
       "2                    125.0                      80.0  \n",
       "3                    140.0                      90.0  \n",
       "4                    140.0                      90.0  "
      ]
     },
     "execution_count": 141,
     "metadata": {},
     "output_type": "execute_result"
    }
   ],
   "source": [
    "sleep_data_pd[['systolic blood pressure','diastolic blood pressure']] = sleep_data_pd['Blood Pressure'].str.split(\"/\", expand=True).astype(float)\n",
    "sleep_data_pd.head()"
   ]
  },
  {
   "cell_type": "code",
   "execution_count": 142,
   "id": "1c495510",
   "metadata": {
    "scrolled": true
   },
   "outputs": [
    {
     "data": {
      "text/plain": [
       "array(['None', 'Sleep Apnea', 'Insomnia'], dtype=object)"
      ]
     },
     "execution_count": 142,
     "metadata": {},
     "output_type": "execute_result"
    }
   ],
   "source": [
    "sleep_data_pd['Sleep Disorder'].unique()"
   ]
  },
  {
   "cell_type": "code",
   "execution_count": 143,
   "id": "5f680a6a",
   "metadata": {},
   "outputs": [],
   "source": [
    "sleep_cleaned = sleep_data_pd[['Person ID','Sleep Duration', 'Quality of Sleep','BMI Category','systolic blood pressure','diastolic blood pressure','Heart Rate','Sleep Disorder']]"
   ]
  },
  {
   "cell_type": "code",
   "execution_count": 144,
   "id": "90c45c1d",
   "metadata": {},
   "outputs": [],
   "source": [
    "health_stat_table1 = sleep_cleaned[sleep_cleaned['Sleep Disorder']=='None'].agg({'Sleep Duration':[\"mean\", \"median\",\"var\",\"std\",\"sem\"]})\n",
    "health_stat_table2 = sleep_cleaned[sleep_cleaned['Sleep Disorder']=='None'].agg({'Quality of Sleep':[\"mean\", \"median\",\"var\",\"std\",\"sem\"]})\n",
    "health_stat_table3 = sleep_cleaned[sleep_cleaned['Sleep Disorder']=='None'].agg({'Heart Rate':[\"mean\", \"median\",\"var\",\"std\",\"sem\"]})\n",
    "health_stat_table4 = sleep_cleaned[sleep_cleaned['Sleep Disorder']=='None'].agg({'systolic blood pressure':[\"mean\", \"median\",\"var\",\"std\",\"sem\"]})\n",
    "health_stat_table5 = sleep_cleaned[sleep_cleaned['Sleep Disorder']=='None'].agg({'diastolic blood pressure':[\"mean\", \"median\",\"var\",\"std\",\"sem\"]})\n",
    "\n",
    "health_stat_table6 = sleep_cleaned[sleep_cleaned['Sleep Disorder']=='Sleep Apnea'].agg({'Sleep Duration':[\"mean\", \"median\",\"var\",\"std\",\"sem\"]})\n",
    "health_stat_table7 = sleep_cleaned[sleep_cleaned['Sleep Disorder']=='Sleep Apnea'].agg({'Quality of Sleep':[\"mean\", \"median\",\"var\",\"std\",\"sem\"]})\n",
    "health_stat_table8 = sleep_cleaned[sleep_cleaned['Sleep Disorder']=='Sleep Apnea'].agg({'Heart Rate':[\"mean\", \"median\",\"var\",\"std\",\"sem\"]})\n",
    "health_stat_table9 = sleep_cleaned[sleep_cleaned['Sleep Disorder']=='Sleep Apnea'].agg({'systolic blood pressure':[\"mean\", \"median\",\"var\",\"std\",\"sem\"]})\n",
    "health_stat_table10 = sleep_cleaned[sleep_cleaned['Sleep Disorder']=='Sleep Apnea'].agg({'diastolic blood pressure':[\"mean\", \"median\",\"var\",\"std\",\"sem\"]})\n",
    "\n",
    "health_stat_table11 = sleep_cleaned[sleep_cleaned['Sleep Disorder']=='Insomnia'].agg({'Sleep Duration':[\"mean\", \"median\",\"var\",\"std\",\"sem\"]})\n",
    "health_stat_table12 = sleep_cleaned[sleep_cleaned['Sleep Disorder']=='Insomnia'].agg({'Quality of Sleep':[\"mean\", \"median\",\"var\",\"std\",\"sem\"]})\n",
    "health_stat_table13 = sleep_cleaned[sleep_cleaned['Sleep Disorder']=='Insomnia'].agg({'Heart Rate':[\"mean\", \"median\",\"var\",\"std\",\"sem\"]})\n",
    "health_stat_table14 = sleep_cleaned[sleep_cleaned['Sleep Disorder']=='Insomnia'].agg({'systolic blood pressure':[\"mean\", \"median\",\"var\",\"std\",\"sem\"]})\n",
    "health_stat_table15 = sleep_cleaned[sleep_cleaned['Sleep Disorder']=='Insomnia'].agg({'diastolic blood pressure':[\"mean\", \"median\",\"var\",\"std\",\"sem\"]})\n"
   ]
  },
  {
   "cell_type": "code",
   "execution_count": 145,
   "id": "9c6e209a",
   "metadata": {},
   "outputs": [],
   "source": [
    "health_stats_none_merged = health_stat_table1.copy()\n",
    "\n",
    "health_stats_none_merged['Quality of Sleep']= health_stat_table2['Quality of Sleep']\n",
    "health_stats_none_merged['Heart Rate']= health_stat_table3['Heart Rate']\n",
    "health_stats_none_merged['systolic blood pressure']= health_stat_table4['systolic blood pressure']\n",
    "health_stats_none_merged['diastolic blood pressure']= health_stat_table5['diastolic blood pressure']\n"
   ]
  },
  {
   "cell_type": "code",
   "execution_count": 146,
   "id": "81950821",
   "metadata": {},
   "outputs": [
    {
     "data": {
      "text/html": [
       "<div>\n",
       "<style scoped>\n",
       "    .dataframe tbody tr th:only-of-type {\n",
       "        vertical-align: middle;\n",
       "    }\n",
       "\n",
       "    .dataframe tbody tr th {\n",
       "        vertical-align: top;\n",
       "    }\n",
       "\n",
       "    .dataframe thead th {\n",
       "        text-align: right;\n",
       "    }\n",
       "</style>\n",
       "<table border=\"1\" class=\"dataframe\">\n",
       "  <thead>\n",
       "    <tr style=\"text-align: right;\">\n",
       "      <th></th>\n",
       "      <th>Sleep Duration</th>\n",
       "      <th>Quality of Sleep</th>\n",
       "      <th>Heart Rate</th>\n",
       "      <th>systolic blood pressure</th>\n",
       "      <th>diastolic blood pressure</th>\n",
       "    </tr>\n",
       "  </thead>\n",
       "  <tbody>\n",
       "    <tr>\n",
       "      <th>mean</th>\n",
       "      <td>7.358447</td>\n",
       "      <td>7.625571</td>\n",
       "      <td>69.018265</td>\n",
       "      <td>124.045662</td>\n",
       "      <td>81.000000</td>\n",
       "    </tr>\n",
       "    <tr>\n",
       "      <th>median</th>\n",
       "      <td>7.400000</td>\n",
       "      <td>8.000000</td>\n",
       "      <td>70.000000</td>\n",
       "      <td>125.000000</td>\n",
       "      <td>80.000000</td>\n",
       "    </tr>\n",
       "    <tr>\n",
       "      <th>var</th>\n",
       "      <td>0.536293</td>\n",
       "      <td>0.950903</td>\n",
       "      <td>7.063885</td>\n",
       "      <td>32.887814</td>\n",
       "      <td>15.926606</td>\n",
       "    </tr>\n",
       "    <tr>\n",
       "      <th>std</th>\n",
       "      <td>0.732320</td>\n",
       "      <td>0.975142</td>\n",
       "      <td>2.657797</td>\n",
       "      <td>5.734790</td>\n",
       "      <td>3.990815</td>\n",
       "    </tr>\n",
       "    <tr>\n",
       "      <th>sem</th>\n",
       "      <td>0.049486</td>\n",
       "      <td>0.065894</td>\n",
       "      <td>0.179597</td>\n",
       "      <td>0.387521</td>\n",
       "      <td>0.269674</td>\n",
       "    </tr>\n",
       "  </tbody>\n",
       "</table>\n",
       "</div>"
      ],
      "text/plain": [
       "        Sleep Duration  Quality of Sleep  Heart Rate  systolic blood pressure  \\\n",
       "mean          7.358447          7.625571   69.018265               124.045662   \n",
       "median        7.400000          8.000000   70.000000               125.000000   \n",
       "var           0.536293          0.950903    7.063885                32.887814   \n",
       "std           0.732320          0.975142    2.657797                 5.734790   \n",
       "sem           0.049486          0.065894    0.179597                 0.387521   \n",
       "\n",
       "        diastolic blood pressure  \n",
       "mean                   81.000000  \n",
       "median                 80.000000  \n",
       "var                    15.926606  \n",
       "std                     3.990815  \n",
       "sem                     0.269674  "
      ]
     },
     "execution_count": 146,
     "metadata": {},
     "output_type": "execute_result"
    }
   ],
   "source": [
    "health_stats_none_merged"
   ]
  },
  {
   "cell_type": "code",
   "execution_count": 147,
   "id": "bfc42024",
   "metadata": {},
   "outputs": [
    {
     "data": {
      "text/html": [
       "<div>\n",
       "<style scoped>\n",
       "    .dataframe tbody tr th:only-of-type {\n",
       "        vertical-align: middle;\n",
       "    }\n",
       "\n",
       "    .dataframe tbody tr th {\n",
       "        vertical-align: top;\n",
       "    }\n",
       "\n",
       "    .dataframe thead th {\n",
       "        text-align: right;\n",
       "    }\n",
       "</style>\n",
       "<table border=\"1\" class=\"dataframe\">\n",
       "  <thead>\n",
       "    <tr style=\"text-align: right;\">\n",
       "      <th></th>\n",
       "      <th>Sleep Duration</th>\n",
       "      <th>Quality of Sleep</th>\n",
       "      <th>Heart Rate</th>\n",
       "      <th>systolic blood pressure</th>\n",
       "      <th>diastolic blood pressure</th>\n",
       "    </tr>\n",
       "  </thead>\n",
       "  <tbody>\n",
       "    <tr>\n",
       "      <th>mean</th>\n",
       "      <td>7.032051</td>\n",
       "      <td>7.205128</td>\n",
       "      <td>73.089744</td>\n",
       "      <td>137.769231</td>\n",
       "      <td>92.717949</td>\n",
       "    </tr>\n",
       "    <tr>\n",
       "      <th>median</th>\n",
       "      <td>6.800000</td>\n",
       "      <td>6.000000</td>\n",
       "      <td>75.000000</td>\n",
       "      <td>140.000000</td>\n",
       "      <td>95.000000</td>\n",
       "    </tr>\n",
       "    <tr>\n",
       "      <th>var</th>\n",
       "      <td>0.950258</td>\n",
       "      <td>2.710623</td>\n",
       "      <td>26.186647</td>\n",
       "      <td>26.439560</td>\n",
       "      <td>20.153180</td>\n",
       "    </tr>\n",
       "    <tr>\n",
       "      <th>std</th>\n",
       "      <td>0.974812</td>\n",
       "      <td>1.646397</td>\n",
       "      <td>5.117289</td>\n",
       "      <td>5.141941</td>\n",
       "      <td>4.489229</td>\n",
       "    </tr>\n",
       "    <tr>\n",
       "      <th>sem</th>\n",
       "      <td>0.110376</td>\n",
       "      <td>0.186418</td>\n",
       "      <td>0.579419</td>\n",
       "      <td>0.582210</td>\n",
       "      <td>0.508305</td>\n",
       "    </tr>\n",
       "  </tbody>\n",
       "</table>\n",
       "</div>"
      ],
      "text/plain": [
       "        Sleep Duration  Quality of Sleep  Heart Rate  systolic blood pressure  \\\n",
       "mean          7.032051          7.205128   73.089744               137.769231   \n",
       "median        6.800000          6.000000   75.000000               140.000000   \n",
       "var           0.950258          2.710623   26.186647                26.439560   \n",
       "std           0.974812          1.646397    5.117289                 5.141941   \n",
       "sem           0.110376          0.186418    0.579419                 0.582210   \n",
       "\n",
       "        diastolic blood pressure  \n",
       "mean                   92.717949  \n",
       "median                 95.000000  \n",
       "var                    20.153180  \n",
       "std                     4.489229  \n",
       "sem                     0.508305  "
      ]
     },
     "execution_count": 147,
     "metadata": {},
     "output_type": "execute_result"
    }
   ],
   "source": [
    "health_stats_apnea_merged = health_stat_table6.copy()\n",
    "\n",
    "health_stats_apnea_merged['Quality of Sleep']= health_stat_table7['Quality of Sleep']\n",
    "health_stats_apnea_merged['Heart Rate']= health_stat_table8['Heart Rate']\n",
    "health_stats_apnea_merged['systolic blood pressure']= health_stat_table9['systolic blood pressure']\n",
    "health_stats_apnea_merged['diastolic blood pressure']= health_stat_table10['diastolic blood pressure']\n",
    "\n",
    "health_stats_apnea_merged"
   ]
  },
  {
   "cell_type": "code",
   "execution_count": 150,
   "id": "c0c0b6bb",
   "metadata": {},
   "outputs": [
    {
     "data": {
      "text/html": [
       "<div>\n",
       "<style scoped>\n",
       "    .dataframe tbody tr th:only-of-type {\n",
       "        vertical-align: middle;\n",
       "    }\n",
       "\n",
       "    .dataframe tbody tr th {\n",
       "        vertical-align: top;\n",
       "    }\n",
       "\n",
       "    .dataframe thead th {\n",
       "        text-align: right;\n",
       "    }\n",
       "</style>\n",
       "<table border=\"1\" class=\"dataframe\">\n",
       "  <thead>\n",
       "    <tr style=\"text-align: right;\">\n",
       "      <th></th>\n",
       "      <th>Sleep Duration</th>\n",
       "      <th>Quality of Sleep</th>\n",
       "      <th>Heart Rate</th>\n",
       "      <th>systolic blood pressure</th>\n",
       "      <th>diastolic blood pressure</th>\n",
       "    </tr>\n",
       "  </thead>\n",
       "  <tbody>\n",
       "    <tr>\n",
       "      <th>mean</th>\n",
       "      <td>6.589610</td>\n",
       "      <td>6.532468</td>\n",
       "      <td>70.467532</td>\n",
       "      <td>132.038961</td>\n",
       "      <td>86.857143</td>\n",
       "    </tr>\n",
       "    <tr>\n",
       "      <th>median</th>\n",
       "      <td>6.500000</td>\n",
       "      <td>7.000000</td>\n",
       "      <td>72.000000</td>\n",
       "      <td>130.000000</td>\n",
       "      <td>85.000000</td>\n",
       "    </tr>\n",
       "    <tr>\n",
       "      <th>var</th>\n",
       "      <td>0.149891</td>\n",
       "      <td>0.646958</td>\n",
       "      <td>24.489064</td>\n",
       "      <td>15.485304</td>\n",
       "      <td>10.097744</td>\n",
       "    </tr>\n",
       "    <tr>\n",
       "      <th>std</th>\n",
       "      <td>0.387157</td>\n",
       "      <td>0.804337</td>\n",
       "      <td>4.948643</td>\n",
       "      <td>3.935137</td>\n",
       "      <td>3.177695</td>\n",
       "    </tr>\n",
       "    <tr>\n",
       "      <th>sem</th>\n",
       "      <td>0.044121</td>\n",
       "      <td>0.091663</td>\n",
       "      <td>0.563950</td>\n",
       "      <td>0.448450</td>\n",
       "      <td>0.362132</td>\n",
       "    </tr>\n",
       "  </tbody>\n",
       "</table>\n",
       "</div>"
      ],
      "text/plain": [
       "        Sleep Duration  Quality of Sleep  Heart Rate  systolic blood pressure  \\\n",
       "mean          6.589610          6.532468   70.467532               132.038961   \n",
       "median        6.500000          7.000000   72.000000               130.000000   \n",
       "var           0.149891          0.646958   24.489064                15.485304   \n",
       "std           0.387157          0.804337    4.948643                 3.935137   \n",
       "sem           0.044121          0.091663    0.563950                 0.448450   \n",
       "\n",
       "        diastolic blood pressure  \n",
       "mean                   86.857143  \n",
       "median                 85.000000  \n",
       "var                    10.097744  \n",
       "std                     3.177695  \n",
       "sem                     0.362132  "
      ]
     },
     "execution_count": 150,
     "metadata": {},
     "output_type": "execute_result"
    }
   ],
   "source": [
    "health_stats_insomnia_merged = health_stat_table11.copy()\n",
    "\n",
    "health_stats_insomnia_merged['Quality of Sleep']= health_stat_table12['Quality of Sleep']\n",
    "health_stats_insomnia_merged['Heart Rate']= health_stat_table13['Heart Rate']\n",
    "health_stats_insomnia_merged['systolic blood pressure']= health_stat_table14['systolic blood pressure']\n",
    "health_stats_insomnia_merged['diastolic blood pressure']= health_stat_table15['diastolic blood pressure']\n",
    "\n",
    "health_stats_insomnia_merged"
   ]
  },
  {
   "cell_type": "code",
   "execution_count": 174,
   "id": "e2d2444e",
   "metadata": {},
   "outputs": [],
   "source": [
    "control = sleep_cleaned[sleep_cleaned['Sleep Disorder']=='None']\n",
    "apnea = sleep_cleaned[sleep_cleaned['Sleep Disorder']=='Sleep Apnea']\n",
    "insomnia = sleep_cleaned[sleep_cleaned['Sleep Disorder']=='Insomnia']"
   ]
  },
  {
   "cell_type": "code",
   "execution_count": 175,
   "id": "03250408",
   "metadata": {},
   "outputs": [
    {
     "data": {
      "text/plain": [
       "Ttest_indResult(statistic=3.0837349347047125, pvalue=0.0022377044307714178)"
      ]
     },
     "execution_count": 175,
     "metadata": {},
     "output_type": "execute_result"
    }
   ],
   "source": [
    "stats.ttest_ind(control['Sleep Duration'],apnea['Sleep Duration'])"
   ]
  },
  {
   "cell_type": "code",
   "execution_count": 176,
   "id": "5b4c25e3",
   "metadata": {},
   "outputs": [
    {
     "data": {
      "text/plain": [
       "Ttest_indResult(statistic=2.6850628735269377, pvalue=0.007661936450979)"
      ]
     },
     "execution_count": 176,
     "metadata": {},
     "output_type": "execute_result"
    }
   ],
   "source": [
    "stats.ttest_ind(control['Quality of Sleep'],apnea['Quality of Sleep'])"
   ]
  },
  {
   "cell_type": "code",
   "execution_count": 177,
   "id": "725178fb",
   "metadata": {
    "scrolled": true
   },
   "outputs": [
    {
     "data": {
      "text/plain": [
       "Ttest_indResult(statistic=-18.631512683042992, pvalue=9.397806654358879e-52)"
      ]
     },
     "execution_count": 177,
     "metadata": {},
     "output_type": "execute_result"
    }
   ],
   "source": [
    "stats.ttest_ind(control['systolic blood pressure'],apnea['systolic blood pressure'])"
   ]
  },
  {
   "cell_type": "code",
   "execution_count": 178,
   "id": "d95a096f",
   "metadata": {},
   "outputs": [
    {
     "data": {
      "text/plain": [
       "Ttest_indResult(statistic=-21.53464843219751, pvalue=1.8096144119624439e-62)"
      ]
     },
     "execution_count": 178,
     "metadata": {},
     "output_type": "execute_result"
    }
   ],
   "source": [
    "stats.ttest_ind(control['diastolic blood pressure'],apnea['diastolic blood pressure'])"
   ]
  },
  {
   "cell_type": "code",
   "execution_count": 179,
   "id": "5853105f",
   "metadata": {},
   "outputs": [
    {
     "data": {
      "text/plain": [
       "Ttest_indResult(statistic=-8.893141383973877, pvalue=6.080232027932548e-17)"
      ]
     },
     "execution_count": 179,
     "metadata": {},
     "output_type": "execute_result"
    }
   ],
   "source": [
    "stats.ttest_ind(control['Heart Rate'],apnea['Heart Rate'])"
   ]
  },
  {
   "cell_type": "code",
   "execution_count": 182,
   "id": "2810f765",
   "metadata": {},
   "outputs": [
    {
     "data": {
      "text/plain": [
       "Ttest_indResult(statistic=8.784361641549475, pvalue=1.3296979544241514e-16)"
      ]
     },
     "execution_count": 182,
     "metadata": {},
     "output_type": "execute_result"
    }
   ],
   "source": [
    "stats.ttest_ind(control['Sleep Duration'],insomnia['Sleep Duration'])"
   ]
  },
  {
   "cell_type": "code",
   "execution_count": 183,
   "id": "7ca28fd4",
   "metadata": {},
   "outputs": [
    {
     "data": {
      "text/plain": [
       "Ttest_indResult(statistic=8.833683252255163, pvalue=9.388601134698313e-17)"
      ]
     },
     "execution_count": 183,
     "metadata": {},
     "output_type": "execute_result"
    }
   ],
   "source": [
    "stats.ttest_ind(control['Quality of Sleep'],insomnia['Quality of Sleep'])"
   ]
  },
  {
   "cell_type": "code",
   "execution_count": 184,
   "id": "364f0fbf",
   "metadata": {},
   "outputs": [
    {
     "data": {
      "text/plain": [
       "Ttest_indResult(statistic=-3.216135888583218, pvalue=0.001444178722913637)"
      ]
     },
     "execution_count": 184,
     "metadata": {},
     "output_type": "execute_result"
    }
   ],
   "source": [
    "stats.ttest_ind(control['Heart Rate'],insomnia['Heart Rate'])"
   ]
  },
  {
   "cell_type": "code",
   "execution_count": 185,
   "id": "164d8894",
   "metadata": {},
   "outputs": [
    {
     "data": {
      "text/plain": [
       "Ttest_indResult(statistic=-11.323247457299466, pvalue=6.551792290581626e-25)"
      ]
     },
     "execution_count": 185,
     "metadata": {},
     "output_type": "execute_result"
    }
   ],
   "source": [
    "stats.ttest_ind(control['systolic blood pressure'],insomnia['systolic blood pressure'])"
   ]
  },
  {
   "cell_type": "code",
   "execution_count": 186,
   "id": "df2a6927",
   "metadata": {},
   "outputs": [
    {
     "data": {
      "text/plain": [
       "Ttest_indResult(statistic=-21.53464843219751, pvalue=1.8096144119624439e-62)"
      ]
     },
     "execution_count": 186,
     "metadata": {},
     "output_type": "execute_result"
    }
   ],
   "source": [
    "stats.ttest_ind(control['diastolic blood pressure'],apnea['diastolic blood pressure'])"
   ]
  },
  {
   "cell_type": "markdown",
   "id": "71bc87c0",
   "metadata": {},
   "source": [
    "T-testing results between the following groupings on disorders:\n",
    "\n",
    "Control group = patients without sleep disorders\n",
    "Apnea group = patients with apnea sleep disorder\n",
    "Insomnia group = patients with insomnia sleep disorder\n",
    "\n",
    "The following results show statistical significance:\n",
    "\n",
    "systolic blood pressure, diastolic blood pressure, and heart rate in patients with Apnea sleep disorder\n",
    "\n",
    "sleep duration, quality of sleep, systolic and diastolic blood pressure in patients with Insomnia sleep disorder\n",
    "\n"
   ]
  },
  {
   "cell_type": "code",
   "execution_count": null,
   "id": "fd5d8eaf",
   "metadata": {},
   "outputs": [],
   "source": []
  },
  {
   "cell_type": "code",
   "execution_count": null,
   "id": "629ed4f8",
   "metadata": {},
   "outputs": [],
   "source": []
  },
  {
   "cell_type": "code",
   "execution_count": null,
   "id": "c4912505",
   "metadata": {},
   "outputs": [],
   "source": []
  }
 ],
 "metadata": {
  "kernelspec": {
   "display_name": "Python 3 (ipykernel)",
   "language": "python",
   "name": "python3"
  },
  "language_info": {
   "codemirror_mode": {
    "name": "ipython",
    "version": 3
   },
   "file_extension": ".py",
   "mimetype": "text/x-python",
   "name": "python",
   "nbconvert_exporter": "python",
   "pygments_lexer": "ipython3",
   "version": "3.11.4"
  }
 },
 "nbformat": 4,
 "nbformat_minor": 5
}
